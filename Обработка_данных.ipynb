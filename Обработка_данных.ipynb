{
  "nbformat": 4,
  "nbformat_minor": 0,
  "metadata": {
    "colab": {
      "provenance": [],
      "collapsed_sections": [
        "BQSMOwEFSIEA",
        "tTXO1XQrPKbg"
      ]
    },
    "kernelspec": {
      "name": "python3",
      "display_name": "Python 3"
    },
    "language_info": {
      "name": "python"
    }
  },
  "cells": [
    {
      "cell_type": "markdown",
      "source": [
        "#Обработка данных"
      ],
      "metadata": {
        "id": "bbc9_43kKfOK"
      }
    },
    {
      "cell_type": "markdown",
      "source": [
        "###Импорт библиотек и данных\n",
        "\n",
        "> Добавить блок с цитатой\n",
        "\n"
      ],
      "metadata": {
        "id": "BQSMOwEFSIEA"
      }
    },
    {
      "cell_type": "code",
      "execution_count": 69,
      "metadata": {
        "id": "IRYg92UCKIme"
      },
      "outputs": [],
      "source": [
        "import pandas as pd\n",
        "import numpy as np\n",
        "import matplotlib.pyplot as plt\n",
        "import seaborn as sns"
      ]
    },
    {
      "cell_type": "code",
      "source": [
        "history=pd.read_csv('https://drive.google.com/uc?export=download&id=1SmFlAHKnaqPy-lp8H3ZPegqQpz6C6gUq', sep='\\t')\n",
        "users=pd.read_csv('https://drive.google.com/uc?export=download&id=16UVDTOX6Gli4amZnDsRrow11ywI-WHl2', sep='\\t')\n",
        "validate_answers=pd.read_csv('https://drive.google.com/uc?export=download&id=1Nz-z3heM8zhUYahcpcsQ7wXxYUo-Ud2B', sep='\\t')\n",
        "validate=pd.read_csv('https://drive.google.com/uc?export=download&id=121sJ7OJ-ZXKAElaXiNHNsuZ49Qmbd2ki', sep='\\t')"
      ],
      "metadata": {
        "id": "gHBvXE-2K854"
      },
      "execution_count": 70,
      "outputs": []
    },
    {
      "cell_type": "markdown",
      "source": [
        "###Обработка выбросов"
      ],
      "metadata": {
        "id": "HfZl4tvaVM07"
      }
    },
    {
      "cell_type": "code",
      "source": [
        "users = users[(users['age'] >= 6) & (users['age'] <= 90)]\n",
        "users = users[users['sex'] != 0]"
      ],
      "metadata": {
        "id": "TR1lzJILTzDH"
      },
      "execution_count": 71,
      "outputs": []
    },
    {
      "cell_type": "markdown",
      "source": [
        "###Объединение датасетов + новые признаки"
      ],
      "metadata": {
        "id": "gppN0qN_gRge"
      }
    },
    {
      "cell_type": "code",
      "source": [
        "history['hour_mod_24'] = history['hour'] % 24"
      ],
      "metadata": {
        "id": "Yfufksfsahh4"
      },
      "execution_count": 72,
      "outputs": []
    },
    {
      "cell_type": "code",
      "source": [
        "def create_users_parametrs(user_ids):\n",
        "    user_ = users[users['user_id'].isin(user_ids)]\n",
        "\n",
        "    if user_.empty:\n",
        "        return pd.Series({\n",
        "            'average_age': 0,\n",
        "            'percent_6_15': 0,\n",
        "            'percent_16_25': 0,\n",
        "            'percent_26_45': 0,\n",
        "            'percent_46_60': 0,\n",
        "            'percent_60_75': 0,\n",
        "            'percent_70_90': 0,\n",
        "            'percent_men': 0,\n",
        "            'percent_women': 0,\n",
        "            'unique_cities': 0,\n",
        "            'percent_cities_3_7_19_25': 0\n",
        "        })\n",
        "\n",
        "    average_age = user_['age'].mean()\n",
        "    total_users = len(user_)\n",
        "    percent_6_15 = (user_[(user_['age'] >= 6) & (user_['age'] <= 15)].shape[0] / total_users) * 100\n",
        "    percent_16_25 = (user_[(user_['age'] >= 16) & (user_['age'] <= 25)].shape[0] / total_users) * 100\n",
        "    percent_26_45 = (user_[(user_['age'] >= 26) & (user_['age'] <= 45)].shape[0] / total_users) * 100\n",
        "    percent_46_60 = (user_[(user_['age'] >= 46) & (user_['age'] <= 60)].shape[0] / total_users) * 100\n",
        "    percent_60_75 = (user_[(user_['age'] >= 60) & (user_['age'] <= 75)].shape[0] / total_users) * 100\n",
        "    percent_70_90 = (user_[(user_['age'] >= 70) & (user_['age'] <= 90)].shape[0] / total_users) * 100\n",
        "\n",
        "    percent_men = (user_[user_['sex'] == 1].shape[0] / total_users) * 100\n",
        "    percent_women = (user_[user_['sex'] == 2].shape[0] / total_users) * 100\n",
        "\n",
        "    unique_cities = user_['city_id'].nunique()\n",
        "    cities_of_interest = [3, 7, 19, 25]\n",
        "    percent_big_cities = (user_[user_['city_id'].isin(cities_of_interest)].shape[0] / total_users) * 100\n",
        "\n",
        "    return pd.Series({\n",
        "        'average_age': average_age,\n",
        "        'percent_6_15': percent_6_15,\n",
        "        'percent_16_25': percent_16_25,\n",
        "        'percent_26_45': percent_26_45,\n",
        "        'percent_46_60': percent_46_60,\n",
        "        'percent_60_75': percent_60_75,\n",
        "        'percent_70_90': percent_70_90,\n",
        "        'percent_men': percent_men,\n",
        "        'percent_women': percent_women,\n",
        "        'unique_cities': unique_cities,\n",
        "        'percent_cities_3_7_19_25': percent_big_cities\n",
        "    })"
      ],
      "metadata": {
        "id": "Fi3ADQilZDMU"
      },
      "execution_count": 74,
      "outputs": []
    },
    {
      "cell_type": "code",
      "source": [
        "result = validate.merge(validate_answers, left_index=True, right_index=True)\n",
        "result['user_ids'] = result['user_ids'].apply(lambda x: eval(x))\n",
        "params = result['user_ids'].apply(create_users_parametrs)\n",
        "result = pd.concat([result, params], axis=1)"
      ],
      "metadata": {
        "id": "MaYe7BEIZQvc"
      },
      "execution_count": 75,
      "outputs": []
    },
    {
      "cell_type": "code",
      "source": [
        "def create_publishers_parametrs(publishers):\n",
        "    if isinstance(publishers, str):\n",
        "        publishers = eval(publishers)\n",
        "    elif isinstance(publishers, int):\n",
        "        publishers = [publishers]\n",
        "\n",
        "    filtered_history = history[history['publisher'].isin(publishers)]\n",
        "\n",
        "    if filtered_history.empty:\n",
        "        return pd.Series({\n",
        "            'average_cpm': 0,\n",
        "            'min_cpm': 0,\n",
        "            'max_cpm': 0,\n",
        "            'most_active_hour': None,\n",
        "            'second_active_hour': None,\n",
        "            'third_active_hour': None,\n",
        "            'fourth_active_hour': None,\n",
        "            'fifth_active_hour': None\n",
        "        })\n",
        "\n",
        "    average_cpm = filtered_history['cpm'].mean()\n",
        "    min_cpm = filtered_history['cpm'].min()\n",
        "    max_cpm = filtered_history['cpm'].max()\n",
        "\n",
        "    active_hours = filtered_history['hour_mod_24'].value_counts().nlargest(5)\n",
        "\n",
        "    most_active_hour = active_hours.index[0] if len(active_hours) > 0 else None\n",
        "    second_active_hour = active_hours.index[1] if len(active_hours) > 1 else None\n",
        "    third_active_hour = active_hours.index[2] if len(active_hours) > 2 else None\n",
        "    fourth_active_hour = active_hours.index[3] if len(active_hours) > 3 else None\n",
        "    fifth_active_hour = active_hours.index[4] if len(active_hours) > 4 else None\n",
        "\n",
        "    return pd.Series({\n",
        "        'average_cpm': average_cpm,\n",
        "        'min_cpm': min_cpm,\n",
        "        'max_cpm': max_cpm,\n",
        "        'most_active_hour': most_active_hour,\n",
        "        'second_active_hour': second_active_hour,\n",
        "        'third_active_hour': third_active_hour,\n",
        "        'fourth_active_hour': fourth_active_hour,\n",
        "        'fifth_active_hour': fifth_active_hour\n",
        "    })"
      ],
      "metadata": {
        "id": "NcQK9de9cPue"
      },
      "execution_count": 76,
      "outputs": []
    },
    {
      "cell_type": "code",
      "source": [
        "result['publishers'] = result['publishers'].apply(lambda x: eval(x))\n",
        "cpm_metrics = result['publishers'].apply(create_publishers_parametrs)\n",
        "result = pd.concat([result, cpm_metrics], axis=1)"
      ],
      "metadata": {
        "id": "AlrvNp7ecThP"
      },
      "execution_count": 78,
      "outputs": []
    },
    {
      "cell_type": "code",
      "source": [
        "result['duration'] = result['hour_end'] - result['hour_start']"
      ],
      "metadata": {
        "id": "lxVE6C3Qf_S9"
      },
      "execution_count": 79,
      "outputs": []
    }
  ]
}