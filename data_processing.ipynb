{
  "nbformat": 4,
  "nbformat_minor": 0,
  "metadata": {
    "colab": {
      "provenance": []
    },
    "kernelspec": {
      "name": "python3",
      "display_name": "Python 3"
    },
    "language_info": {
      "name": "python"
    }
  },
  "cells": [
    {
      "cell_type": "code",
      "execution_count": 1,
      "metadata": {
        "id": "8Tiowvc7b2D2"
      },
      "outputs": [],
      "source": [
        "import pandas as pd\n",
        "import numpy as np\n",
        "import matplotlib.pyplot as plt\n",
        "import seaborn as sns"
      ]
    },
    {
      "cell_type": "code",
      "source": [
        "history=pd.read_csv('https://drive.google.com/uc?export=download&id=1SmFlAHKnaqPy-lp8H3ZPegqQpz6C6gUq', sep='\\t')\n",
        "users=pd.read_csv('https://drive.google.com/uc?export=download&id=16UVDTOX6Gli4amZnDsRrow11ywI-WHl2', sep='\\t')\n",
        "validate_answers=pd.read_csv('https://drive.google.com/uc?export=download&id=1Nz-z3heM8zhUYahcpcsQ7wXxYUo-Ud2B', sep='\\t')\n",
        "validate=pd.read_csv('https://drive.google.com/uc?export=download&id=121sJ7OJ-ZXKAElaXiNHNsuZ49Qmbd2ki', sep='\\t')"
      ],
      "metadata": {
        "id": "rmfKfozJdMQT"
      },
      "execution_count": 2,
      "outputs": []
    },
    {
      "cell_type": "code",
      "source": [
        "def calculate_mean_age(user_ids_str, users_df):\n",
        "    if pd.isna(user_ids_str) or user_ids_str == '':\n",
        "        return np.nan\n",
        "\n",
        "    user_ids = [int(uid) for uid in user_ids_str.split(',') if uid.strip().isdigit()]\n",
        "\n",
        "    ages = users_df[users_df['user_id'].isin(user_ids)]['age']\n",
        "\n",
        "    return ages.mean() if not ages.empty else np.nan"
      ],
      "metadata": {
        "id": "HX5ZjXA_dj2C"
      },
      "execution_count": 3,
      "outputs": []
    },
    {
      "cell_type": "code",
      "source": [
        "user_features = history.groupby('user_id').agg({\n",
        "    'cpm': ['mean', 'median'],\n",
        "    'hour': 'count',\n",
        "    'publisher': pd.Series.nunique\n",
        "})\n",
        "user_features.columns = ['avg_cpm', 'median_cpm', 'total_views', 'unique_publishers']\n",
        "user_features = user_features.reset_index()"
      ],
      "metadata": {
        "id": "fAWkWyWWfNFf"
      },
      "execution_count": 4,
      "outputs": []
    },
    {
      "cell_type": "code",
      "source": [
        "users_processed = pd.merge(users, user_features, on='user_id', how='left')\n",
        "users_processed.fillna({\n",
        "    'avg_cpm': 0,\n",
        "    'median_cpm': 0,\n",
        "    'total_views': 0,\n",
        "    'unique_publishers': 0\n",
        "}, inplace=True)"
      ],
      "metadata": {
        "id": "kCkrrzRmguK4"
      },
      "execution_count": 5,
      "outputs": []
    },
    {
      "cell_type": "code",
      "source": [
        "users_processed.to_csv('users_processed.csv', sep='\\t')"
      ],
      "metadata": {
        "id": "5MxePmNgiBSi"
      },
      "execution_count": 6,
      "outputs": []
    },
    {
      "cell_type": "code",
      "source": [
        "history_processed = history.copy()\n",
        "history_processed['hour_mod_24'] = history_processed['hour'] % 24"
      ],
      "metadata": {
        "id": "NAkOdMcAiWx6"
      },
      "execution_count": 7,
      "outputs": []
    },
    {
      "cell_type": "code",
      "source": [
        "def create_users_parametrs(user_ids):\n",
        "    user_ = users[users['user_id'].isin(user_ids)]\n",
        "\n",
        "    if user_.empty:\n",
        "        return pd.Series({\n",
        "            'average_age': 0,\n",
        "            'percent_6_15': 0,\n",
        "            'percent_16_25': 0,\n",
        "            'percent_26_45': 0,\n",
        "            'percent_46_60': 0,\n",
        "            'percent_60_75': 0,\n",
        "            'percent_70_90': 0,\n",
        "            'percent_men': 0,\n",
        "            'unique_cities': 0,\n",
        "            'percent_cities_3_7_19_25': 0\n",
        "        })\n",
        "\n",
        "    average_age = user_['age'].mean()\n",
        "    total_users = len(user_)\n",
        "    percent_6_15 = (user_[(user_['age'] >= 6) & (user_['age'] <= 15)].shape[0] / total_users) * 100\n",
        "    percent_16_25 = (user_[(user_['age'] >= 16) & (user_['age'] <= 25)].shape[0] / total_users) * 100\n",
        "    percent_26_45 = (user_[(user_['age'] >= 26) & (user_['age'] <= 45)].shape[0] / total_users) * 100\n",
        "    percent_46_60 = (user_[(user_['age'] >= 46) & (user_['age'] <= 60)].shape[0] / total_users) * 100\n",
        "    percent_60_75 = (user_[(user_['age'] >= 60) & (user_['age'] <= 75)].shape[0] / total_users) * 100\n",
        "    percent_70_90 = (user_[(user_['age'] >= 70) & (user_['age'] <= 90)].shape[0] / total_users) * 100\n",
        "\n",
        "    percent_men = (user_[user_['sex'] == 1].shape[0] / total_users) * 100\n",
        "\n",
        "    unique_cities = user_['city_id'].nunique()\n",
        "    cities_of_interest = [3, 7, 19, 25]\n",
        "    percent_big_cities = (user_[user_['city_id'].isin(cities_of_interest)].shape[0] / total_users) * 100\n",
        "\n",
        "    return pd.Series({\n",
        "        'average_age': average_age,\n",
        "        'percent_6_15': percent_6_15,\n",
        "        'percent_16_25': percent_16_25,\n",
        "        'percent_26_45': percent_26_45,\n",
        "        'percent_46_60': percent_46_60,\n",
        "        'percent_60_75': percent_60_75,\n",
        "        'percent_70_90': percent_70_90,\n",
        "        'percent_men': percent_men,\n",
        "        'unique_cities': unique_cities,\n",
        "        'percent_cities_3_7_19_25': percent_big_cities\n",
        "    })"
      ],
      "metadata": {
        "id": "u029ovWoidae"
      },
      "execution_count": 8,
      "outputs": []
    },
    {
      "cell_type": "code",
      "source": [
        "validate_processed = validate.copy()\n",
        "validate_processed['user_ids'] = validate_processed['user_ids'].apply(lambda x: eval(x))\n",
        "params = validate_processed['user_ids'].apply(create_users_parametrs)\n",
        "validate_processed = pd.concat([validate_processed, params], axis=1)"
      ],
      "metadata": {
        "id": "47tXh4dMjE2A"
      },
      "execution_count": 9,
      "outputs": []
    },
    {
      "cell_type": "code",
      "source": [
        "def create_publishers_parametrs(publishers):\n",
        "    if isinstance(publishers, str):\n",
        "        publishers = eval(publishers)\n",
        "    elif isinstance(publishers, int):\n",
        "        publishers = [publishers]\n",
        "\n",
        "    filtered_history = history_processed[history_processed['publisher'].isin(publishers)]\n",
        "\n",
        "    if filtered_history.empty:\n",
        "        return pd.Series({\n",
        "            'average_cpm': 0,\n",
        "            'min_cpm': 0,\n",
        "            'max_cpm': 0,\n",
        "            'most_active_hour': None,\n",
        "            'second_active_hour': None,\n",
        "            'third_active_hour': None,\n",
        "            'fourth_active_hour': None,\n",
        "            'fifth_active_hour': None\n",
        "        })\n",
        "\n",
        "    average_cpm = filtered_history['cpm'].mean()\n",
        "    min_cpm = filtered_history['cpm'].min()\n",
        "    max_cpm = filtered_history['cpm'].max()\n",
        "\n",
        "    active_hours = filtered_history['hour_mod_24'].value_counts().nlargest(5)\n",
        "\n",
        "    most_active_hour = active_hours.index[0] if len(active_hours) > 0 else None\n",
        "    second_active_hour = active_hours.index[1] if len(active_hours) > 1 else None\n",
        "    third_active_hour = active_hours.index[2] if len(active_hours) > 2 else None\n",
        "    fourth_active_hour = active_hours.index[3] if len(active_hours) > 3 else None\n",
        "    fifth_active_hour = active_hours.index[4] if len(active_hours) > 4 else None\n",
        "\n",
        "    return pd.Series({\n",
        "        'average_cpm': average_cpm,\n",
        "        'min_cpm': min_cpm,\n",
        "        'max_cpm': max_cpm,\n",
        "        'most_active_hour': most_active_hour,\n",
        "        'second_active_hour': second_active_hour,\n",
        "        'third_active_hour': third_active_hour,\n",
        "        'fourth_active_hour': fourth_active_hour,\n",
        "        'fifth_active_hour': fifth_active_hour\n",
        "    })"
      ],
      "metadata": {
        "id": "6CmM1QlMkLTL"
      },
      "execution_count": 10,
      "outputs": []
    },
    {
      "cell_type": "code",
      "source": [
        "validate_processed['publishers'] = validate_processed['publishers'].apply(lambda x: eval(x))\n",
        "cpm_metrics = validate_processed['publishers'].apply(create_publishers_parametrs)\n",
        "validate_processed = pd.concat([validate_processed, cpm_metrics], axis=1)"
      ],
      "metadata": {
        "id": "aNWkuOqGkRxP"
      },
      "execution_count": 11,
      "outputs": []
    },
    {
      "cell_type": "code",
      "source": [
        "validate_processed.to_csv('validate_processed.csv', sep='\\t')"
      ],
      "metadata": {
        "id": "S7Ohp_9wl7E4"
      },
      "execution_count": 12,
      "outputs": []
    },
    {
      "cell_type": "code",
      "source": [
        "history_processed.to_csv('history_processed.csv', sep='\\t')"
      ],
      "metadata": {
        "id": "s1kDTHwjmWqv"
      },
      "execution_count": 13,
      "outputs": []
    },
    {
      "cell_type": "markdown",
      "source": [
        "Ссылки на обновленные датасеты."
      ],
      "metadata": {
        "id": "wcmRV_EldOPd"
      }
    },
    {
      "cell_type": "code",
      "source": [
        "url_history_processed = \"https://getfile.dokpub.com/yandex/get/https://disk.yandex.ru/d/ulaYp7kk5GVtHQ\"\n",
        "url_users_processed = \"https://getfile.dokpub.com/yandex/get/https://disk.yandex.ru/d/AktYELbxh5oxKw\"\n",
        "url_validate_processed = 'https://getfile.dokpub.com/yandex/get/https://disk.yandex.ru/d/qHYejfzpLrhMEA'"
      ],
      "metadata": {
        "id": "O2ZpD2GvbhjP"
      },
      "execution_count": 16,
      "outputs": []
    },
    {
      "cell_type": "code",
      "source": [
        "def load_answers(answers_filename):\n",
        "    return pd.read_csv(answers_filename, sep=\"\\t\")\n",
        "\n",
        "\n",
        "def get_smoothed_log_mape_column_value(responses_column, answers_column, epsilon):\n",
        "    return np.abs(np.log(\n",
        "        (responses_column + epsilon)\n",
        "        / (answers_column + epsilon)\n",
        "    )).mean()\n",
        "\n",
        "\n",
        "def get_smoothed_mean_log_accuracy_ratio(answers, responses, epsilon=0.005):\n",
        "    log_accuracy_ratio_mean = np.array(\n",
        "        [\n",
        "            get_smoothed_log_mape_column_value(responses.at_least_one, answers.at_least_one, epsilon),\n",
        "            get_smoothed_log_mape_column_value(responses.at_least_two, answers.at_least_two, epsilon),\n",
        "            get_smoothed_log_mape_column_value(responses.at_least_three, answers.at_least_three, epsilon),\n",
        "        ]\n",
        "    ).mean()\n",
        "\n",
        "    percentage_error = 100 * (np.exp(log_accuracy_ratio_mean) - 1)\n",
        "\n",
        "    return percentage_error.round(\n",
        "        decimals=2\n",
        "    )"
      ],
      "metadata": {
        "id": "OotrrfJseUZ0"
      },
      "execution_count": 24,
      "outputs": []
    },
    {
      "cell_type": "code",
      "source": [
        "\n",
        "\n",
        "from sklearn.model_selection import train_test_split\n",
        "from sklearn.ensemble import RandomForestRegressor\n",
        "\n",
        "X_train, X_test, y_train, y_test = train_test_split(validate_processed[['cpm', 'hour_start', 'hour_end', 'average_age', 'percent_6_15', 'percent_16_25', 'percent_26_45', 'percent_46_60', 'percent_60_75',\n",
        "       'percent_70_90', 'percent_men', 'unique_cities',\n",
        "       'percent_cities_3_7_19_25', 'average_cpm', 'min_cpm', 'max_cpm',\n",
        "       'most_active_hour', 'second_active_hour', 'third_active_hour',\n",
        "       'fourth_active_hour', 'fifth_active_hour']], validate_answers, test_size=0.3, random_state=42)\n",
        "\n",
        "model_at_least_one = RandomForestRegressor(\n",
        "    n_estimators=200,\n",
        "    max_depth=15,\n",
        "    random_state=42\n",
        ")\n",
        "\n",
        "model_at_least_two = RandomForestRegressor(\n",
        "    n_estimators=200,\n",
        "    max_depth=15,\n",
        "    random_state=42\n",
        ")\n",
        "\n",
        "model_at_least_three = RandomForestRegressor(\n",
        "    n_estimators=200,\n",
        "    max_depth=15,\n",
        "    random_state=42\n",
        ")\n",
        "\n",
        "model_at_least_one.fit(X_train, y_train['at_least_one'])\n",
        "model_at_least_two.fit(X_train, y_train['at_least_two'])\n",
        "model_at_least_three.fit(X_train, y_train['at_least_three'])\n",
        "\n",
        "pred_at_least_one = model_at_least_one.predict(X_train)\n",
        "pred_at_least_two = model_at_least_two.predict(X_train)\n",
        "pred_at_least_three = model_at_least_three.predict(X_train)\n",
        "\n",
        "\n",
        "responses = pd.DataFrame({\n",
        "    'at_least_one': pred_at_least_one,\n",
        "    'at_least_two': pred_at_least_two,\n",
        "    'at_least_three': pred_at_least_three\n",
        "})\n",
        "\n"
      ],
      "metadata": {
        "id": "ggDQy8qvdvv7"
      },
      "execution_count": 27,
      "outputs": []
    },
    {
      "cell_type": "markdown",
      "source": [
        "Используя только общие данные о выборке пользователей мы получили результат 327%."
      ],
      "metadata": {
        "id": "o0YYr_KzeZBR"
      }
    },
    {
      "cell_type": "code",
      "source": [
        "print(get_smoothed_mean_log_accuracy_ratio(y_test, responses)) #"
      ],
      "metadata": {
        "colab": {
          "base_uri": "https://localhost:8080/"
        },
        "id": "Obj-RGhZeOEX",
        "outputId": "6643e8f6-8360-48dd-a8c0-e472bdd22c2f"
      },
      "execution_count": 28,
      "outputs": [
        {
          "output_type": "stream",
          "name": "stdout",
          "text": [
            "327.31\n"
          ]
        }
      ]
    }
  ]
}