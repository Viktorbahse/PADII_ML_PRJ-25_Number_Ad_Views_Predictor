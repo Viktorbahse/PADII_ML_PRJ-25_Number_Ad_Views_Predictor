{
  "metadata": {
    "kernelspec": {
      "language": "python",
      "display_name": "Python 3",
      "name": "python3"
    },
    "language_info": {
      "name": "python",
      "version": "3.11.11",
      "mimetype": "text/x-python",
      "codemirror_mode": {
        "name": "ipython",
        "version": 3
      },
      "pygments_lexer": "ipython3",
      "nbconvert_exporter": "python",
      "file_extension": ".py"
    },
    "kaggle": {
      "accelerator": "none",
      "dataSources": [],
      "dockerImageVersionId": 31040,
      "isInternetEnabled": true,
      "language": "python",
      "sourceType": "notebook",
      "isGpuEnabled": false
    },
    "colab": {
      "provenance": []
    }
  },
  "nbformat_minor": 0,
  "nbformat": 4,
  "cells": [
    {
      "cell_type": "code",
      "source": [
        "import pandas as pd\n",
        "import numpy as np"
      ],
      "metadata": {
        "_uuid": "8f2839f25d086af736a60e9eeb907d3b93b6e0e5",
        "_cell_guid": "b1076dfc-b9ad-4769-8c92-a6c4dae69d19",
        "trusted": true,
        "execution": {
          "iopub.status.busy": "2025-06-04T15:17:54.083437Z",
          "iopub.execute_input": "2025-06-04T15:17:54.084481Z",
          "iopub.status.idle": "2025-06-04T15:17:54.088775Z",
          "shell.execute_reply.started": "2025-06-04T15:17:54.084445Z",
          "shell.execute_reply": "2025-06-04T15:17:54.087843Z"
        },
        "id": "Ii1uYU7hhkEx"
      },
      "outputs": [],
      "execution_count": 1
    },
    {
      "cell_type": "code",
      "source": [
        "history=pd.read_csv('https://drive.google.com/uc?export=download&id=1SmFlAHKnaqPy-lp8H3ZPegqQpz6C6gUq', sep='\\t')\n",
        "users=pd.read_csv('https://drive.google.com/uc?export=download&id=16UVDTOX6Gli4amZnDsRrow11ywI-WHl2', sep='\\t')\n",
        "validate_answers=pd.read_csv('https://drive.google.com/uc?export=download&id=1Nz-z3heM8zhUYahcpcsQ7wXxYUo-Ud2B', sep='\\t')\n",
        "validate=pd.read_csv('https://drive.google.com/uc?export=download&id=121sJ7OJ-ZXKAElaXiNHNsuZ49Qmbd2ki', sep='\\t')"
      ],
      "metadata": {
        "trusted": true,
        "execution": {
          "iopub.status.busy": "2025-06-04T15:17:57.792893Z",
          "iopub.execute_input": "2025-06-04T15:17:57.793253Z",
          "iopub.status.idle": "2025-06-04T15:18:11.551533Z",
          "shell.execute_reply.started": "2025-06-04T15:17:57.793226Z",
          "shell.execute_reply": "2025-06-04T15:18:11.550514Z"
        },
        "id": "2L07U5VqhkE0"
      },
      "outputs": [],
      "execution_count": 10
    },
    {
      "cell_type": "code",
      "source": [
        "data = pd.concat([validate, validate_answers], axis=1)\n",
        "data.head()\n",
        "train = data[data['hour_start']>1300]\n",
        "test = data[data['hour_end']<=1300]\n",
        "validate_train = train[validate.columns]\n",
        "validate_answers_train = train[validate_answers.columns]\n",
        "validate_test = test[validate.columns]\n",
        "validate_answers_test = test[validate_answers.columns]\n",
        "history_train = history[history['hour']<=1300]"
      ],
      "metadata": {
        "trusted": true,
        "execution": {
          "iopub.status.busy": "2025-06-04T15:18:23.736713Z",
          "iopub.execute_input": "2025-06-04T15:18:23.737011Z",
          "iopub.status.idle": "2025-06-04T15:18:23.769288Z",
          "shell.execute_reply.started": "2025-06-04T15:18:23.736990Z",
          "shell.execute_reply": "2025-06-04T15:18:23.768387Z"
        },
        "id": "_XB5nKouhkE1"
      },
      "outputs": [],
      "execution_count": 11
    },
    {
      "cell_type": "code",
      "source": [
        "def prepare_users_dataset(users, history):\n",
        "    user_features = history.groupby('user_id').agg({\n",
        "        'cpm': ['mean', 'median', 'min'],\n",
        "        'hour': 'count',\n",
        "        'publisher': pd.Series.nunique\n",
        "    })\n",
        "    user_features.columns = ['mean_cpm', 'median_cpm', 'min_cpm', 'total_views', 'unique_publishers']\n",
        "    user_features = user_features.reset_index()\n",
        "\n",
        "    users_features_night = (history[history['hour']%24<6]).groupby('user_id').agg({\n",
        "        'cpm': ['mean', 'median', 'min'],\n",
        "        'hour': 'count'\n",
        "    })\n",
        "    users_features_night.columns = ['mean_night_cpm', 'median_night_cpm', 'min_night_cpm', 'total_views_night']\n",
        "    users_features_night = users_features_night.reset_index()\n",
        "\n",
        "    users_features_morning = (history[(history['hour']%24>=6) & (history['hour']%24<12)]).groupby('user_id').agg({\n",
        "        'cpm': ['mean', 'median', 'min'],\n",
        "        'hour': 'count'\n",
        "    })\n",
        "    users_features_morning.columns = ['mean_morning_cpm', 'median_morning_cpm', 'min_morning_cpm', 'total_views_morning']\n",
        "    users_features_morning = users_features_morning.reset_index()\n",
        "\n",
        "    users_features_day = (history[(history['hour']%24>=12) & (history['hour']%24<18)]).groupby('user_id').agg({\n",
        "        'cpm': ['mean', 'median', 'min'],\n",
        "        'hour': 'count'\n",
        "    })\n",
        "    users_features_day.columns = ['mean_day_cpm', 'median_day_cpm', 'min_day_cpm', 'total_views_day']\n",
        "    users_features_day = users_features_day.reset_index()\n",
        "\n",
        "    users_features_evening = (history[history['hour']%24>=18]).groupby('user_id').agg({\n",
        "        'cpm': ['mean', 'median', 'min'],\n",
        "        'hour': 'count'\n",
        "    })\n",
        "    users_features_evening.columns = ['mean_evening_cpm', 'median_evening_cpm', 'min_evening_cpm', 'total_views_evening']\n",
        "    users_features_evening = users_features_evening.reset_index()\n",
        "\n",
        "    users_processed = pd.merge(users, user_features, on='user_id', how='left')\n",
        "    users_processed = pd.merge(users_processed, users_features_night, on='user_id', how='left')\n",
        "    users_processed = pd.merge(users_processed, users_features_morning, on='user_id', how='left')\n",
        "    users_processed = pd.merge(users_processed, users_features_day, on='user_id', how='left')\n",
        "    users_processed = pd.merge(users_processed, users_features_evening, on='user_id', how='left')\n",
        "    users_processed.fillna({\n",
        "        'mean_cpm': 0,\n",
        "        'median_cpm': 0,\n",
        "        'total_views': 0,\n",
        "        'unique_publishers': 0,\n",
        "        'mean_night_cpm': 0,\n",
        "        'median_night_cpm': 0,\n",
        "        'min_night_cpm': 0,\n",
        "        'total_views_night': 0,\n",
        "        'mean_morning_cpm': 0,\n",
        "        'median_morning_cpm': 0,\n",
        "        'min_morning_cpm': 0,\n",
        "        'total_views_morning': 0,\n",
        "        'mean_day_cpm': 0,\n",
        "        'median_day_cpm': 0,\n",
        "        'min_day_cpm': 0,\n",
        "        'total_views_day': 0,\n",
        "        'mean_evening_cpm': 0,\n",
        "        'median_evening_cpm': 0,\n",
        "        'min_evening_cpm': 0,\n",
        "        'total_views_evening': 0\n",
        "    }, inplace=True)\n",
        "    return users_processed"
      ],
      "metadata": {
        "trusted": true,
        "execution": {
          "iopub.status.busy": "2025-06-04T15:18:11.611732Z",
          "iopub.execute_input": "2025-06-04T15:18:11.612092Z",
          "iopub.status.idle": "2025-06-04T15:18:11.642241Z",
          "shell.execute_reply.started": "2025-06-04T15:18:11.612058Z",
          "shell.execute_reply": "2025-06-04T15:18:11.641197Z"
        },
        "id": "7pnMamV7hkE3"
      },
      "outputs": [],
      "execution_count": 12
    },
    {
      "cell_type": "code",
      "source": [
        "users_train = prepare_users_dataset(users, history_train)\n",
        "users_train.to_csv('users_train.csv', sep='\\t')"
      ],
      "metadata": {
        "trusted": true,
        "execution": {
          "iopub.status.busy": "2025-06-04T15:17:27.863610Z",
          "iopub.status.idle": "2025-06-04T15:17:27.864020Z",
          "shell.execute_reply.started": "2025-06-04T15:17:27.863808Z",
          "shell.execute_reply": "2025-06-04T15:17:27.863825Z"
        },
        "id": "WSc1R3zDhkE4"
      },
      "outputs": [],
      "execution_count": 13
    },
    {
      "cell_type": "code",
      "source": [
        "history_train = history_train.copy()\n",
        "history_train['hour_mod_24'] = history_train['hour']%24\n",
        "history_train.to_csv('history_train.csv', sep='\\t')"
      ],
      "metadata": {
        "trusted": true,
        "execution": {
          "iopub.status.busy": "2025-06-04T15:17:27.865482Z",
          "iopub.status.idle": "2025-06-04T15:17:27.865814Z",
          "shell.execute_reply.started": "2025-06-04T15:17:27.865676Z",
          "shell.execute_reply": "2025-06-04T15:17:27.865689Z"
        },
        "id": "8rww54mohkE4"
      },
      "outputs": [],
      "execution_count": 6
    },
    {
      "cell_type": "code",
      "source": [
        "def create_users_parametrs(user_ids):\n",
        "    user_ = users_train[users_train['user_id'].isin(user_ids)]\n",
        "\n",
        "    if user_.empty:\n",
        "        return pd.Series({\n",
        "            'average_age': 0,\n",
        "            'percent_6_15': 0,\n",
        "            'percent_16_25': 0,\n",
        "            'percent_26_45': 0,\n",
        "            'percent_46_60': 0,\n",
        "            'percent_60_75': 0,\n",
        "            'percent_70_90': 0,\n",
        "            'percent_men': 0,\n",
        "            'unique_cities': 0,\n",
        "            'percent_cities_3_7_19_25': 0,\n",
        "            'mean_users_mean_cpm': 0,\n",
        "            'mean_users_median_cpm': 0,\n",
        "            'mean_users_min_cpm': 0,\n",
        "            'mean_total_views': 0,\n",
        "            'unique_publishers': 0,\n",
        "            'mean_users_mean_night_cpm': 0,\n",
        "            'mean_users_median_night_cpm': 0,\n",
        "            'mean_users_min_night_cpm': 0,\n",
        "            'mean_users_total_views_night': 0,\n",
        "            'mean_users_mean_morning_cpm': 0,\n",
        "            'mean_users_median_morning_cpm': 0,\n",
        "            'mean_users_min_morning_cpm': 0,\n",
        "            'mean_users_total_views_morning': 0,\n",
        "            'mean_users_mean_day_cpm': 0,\n",
        "            'mean_users_median_day_cpm': 0,\n",
        "            'mean_users_min_day_cpm': 0,\n",
        "            'mean_users_total_views_day': 0,\n",
        "            'mean_users_mean_evening_cpm': 0,\n",
        "            'mean_users_median_evening_cpm': 0,\n",
        "            'mean_users_min_evening_cpm': 0,\n",
        "            'mean_users_total_views_evening': 0\n",
        "\n",
        "        })\n",
        "\n",
        "    average_age = user_['age'].mean()\n",
        "    total_users = len(user_)\n",
        "    percent_6_15 = (user_[(user_['age'] >= 6) & (user_['age'] <= 15)].shape[0] / total_users) * 100\n",
        "    percent_16_25 = (user_[(user_['age'] >= 16) & (user_['age'] <= 25)].shape[0] / total_users) * 100\n",
        "    percent_26_45 = (user_[(user_['age'] >= 26) & (user_['age'] <= 45)].shape[0] / total_users) * 100\n",
        "    percent_46_60 = (user_[(user_['age'] >= 46) & (user_['age'] <= 60)].shape[0] / total_users) * 100\n",
        "    percent_60_75 = (user_[(user_['age'] >= 60) & (user_['age'] <= 75)].shape[0] / total_users) * 100\n",
        "    percent_70_90 = (user_[(user_['age'] >= 70) & (user_['age'] <= 90)].shape[0] / total_users) * 100\n",
        "\n",
        "    percent_men = (user_[user_['sex'] == 1].shape[0] / total_users) * 100\n",
        "\n",
        "    unique_cities = user_['city_id'].nunique()\n",
        "    cities_of_interest = [3, 7, 19, 25]\n",
        "    percent_big_cities = (user_[user_['city_id'].isin(cities_of_interest)].shape[0] / total_users) * 100\n",
        "\n",
        "    return pd.Series({\n",
        "        'average_age': average_age,\n",
        "        'percent_6_15': percent_6_15,\n",
        "        'percent_16_25': percent_16_25,\n",
        "        'percent_26_45': percent_26_45,\n",
        "        'percent_46_60': percent_46_60,\n",
        "        'percent_60_75': percent_60_75,\n",
        "        'percent_70_90': percent_70_90,\n",
        "        'percent_men': percent_men,\n",
        "        'unique_cities': unique_cities,\n",
        "        'percent_cities_3_7_19_25': percent_big_cities,\n",
        "        'mean_users_mean_cpm': user_['mean_cpm'].mean(),\n",
        "        'mean_users_median_cpm': user_['median_cpm'].mean(),\n",
        "        'mean_users_min_cpm': user_['min_cpm'].mean(),\n",
        "        'mean_total_views': user_['total_views'].mean(),\n",
        "        'unique_publishers': user_['unique_publishers'].mean(),\n",
        "        'mean_users_mean_night_cpm': user_['mean_night_cpm'].mean(),\n",
        "        'mean_users_median_night_cpm': user_['median_night_cpm'].mean(),\n",
        "        'mean_users_min_night_cpm': user_['min_night_cpm'].mean(),\n",
        "        'mean_users_total_views_night': user_['total_views_night'].mean(),\n",
        "        'mean_users_mean_morning_cpm': user_['mean_morning_cpm'].mean(),\n",
        "        'mean_users_median_morning_cpm': user_['median_morning_cpm'].mean(),\n",
        "        'mean_users_min_morning_cpm': user_['min_morning_cpm'].mean(),\n",
        "        'mean_users_total_views_morning': user_['total_views_morning'].mean(),\n",
        "        'mean_users_mean_day_cpm': user_['mean_day_cpm'].mean(),\n",
        "        'mean_users_median_day_cpm': user_['median_day_cpm'].mean(),\n",
        "        'mean_users_min_day_cpm': user_['min_day_cpm'].mean(),\n",
        "        'mean_users_total_views_day': user_['total_views_day'].mean(),\n",
        "        'mean_users_mean_evening_cpm': user_['mean_evening_cpm'].mean(),\n",
        "        'mean_users_median_evening_cpm': user_['median_evening_cpm'].mean(),\n",
        "        'mean_users_min_evening_cpm': user_['min_evening_cpm'].mean(),\n",
        "        'mean_users_total_views_evening': user_['total_views_evening'].mean()\n",
        "    })"
      ],
      "metadata": {
        "trusted": true,
        "execution": {
          "iopub.status.busy": "2025-06-04T15:17:27.868219Z",
          "iopub.status.idle": "2025-06-04T15:17:27.868826Z",
          "shell.execute_reply.started": "2025-06-04T15:17:27.868615Z",
          "shell.execute_reply": "2025-06-04T15:17:27.868641Z"
        },
        "id": "duguVDN4hkE5"
      },
      "outputs": [],
      "execution_count": null
    },
    {
      "cell_type": "code",
      "source": [
        "validate_train = validate_train.copy()\n",
        "validate_train['user_ids'] = validate_train['user_ids'].apply(lambda x: eval(x))\n",
        "params = validate_train['user_ids'].apply(create_users_parametrs)\n",
        "validate_train = pd.concat([validate_train, params], axis=1)"
      ],
      "metadata": {
        "trusted": true,
        "execution": {
          "iopub.status.busy": "2025-06-04T15:17:27.871799Z",
          "iopub.status.idle": "2025-06-04T15:17:27.872170Z",
          "shell.execute_reply.started": "2025-06-04T15:17:27.872002Z",
          "shell.execute_reply": "2025-06-04T15:17:27.872014Z"
        },
        "id": "G9diqw-ChkE7"
      },
      "outputs": [],
      "execution_count": null
    },
    {
      "cell_type": "code",
      "source": [
        "validate_test = validate_test.copy()\n",
        "validate_test['user_ids'] = validate_test['user_ids'].apply(lambda x: eval(x))\n",
        "params = validate_test['user_ids'].apply(create_users_parametrs)\n",
        "validate_test = pd.concat([validate_test, params], axis=1)"
      ],
      "metadata": {
        "trusted": true,
        "execution": {
          "iopub.status.busy": "2025-06-04T15:17:27.873992Z",
          "iopub.status.idle": "2025-06-04T15:17:27.874388Z",
          "shell.execute_reply.started": "2025-06-04T15:17:27.874193Z",
          "shell.execute_reply": "2025-06-04T15:17:27.874210Z"
        },
        "id": "lZVfB4vhhkE9"
      },
      "outputs": [],
      "execution_count": null
    },
    {
      "cell_type": "code",
      "source": [
        "def create_publishers_parametrs(publishers):\n",
        "    if isinstance(publishers, str):\n",
        "        publishers = eval(publishers)\n",
        "    elif isinstance(publishers, int):\n",
        "        publishers = [publishers]\n",
        "\n",
        "    filtered_history = history_train[history_train['publisher'].isin(publishers)]\n",
        "\n",
        "    if filtered_history.empty:\n",
        "        return pd.Series({\n",
        "            'average_cpm': 0,\n",
        "            'min_cpm': 0,\n",
        "            'max_cpm': 0,\n",
        "            'most_active_hour': None,\n",
        "            'second_active_hour': None,\n",
        "            'third_active_hour': None,\n",
        "            'fourth_active_hour': None,\n",
        "            'fifth_active_hour': None\n",
        "        })\n",
        "\n",
        "    average_cpm = filtered_history['cpm'].mean()\n",
        "    min_cpm = filtered_history['cpm'].min()\n",
        "    max_cpm = filtered_history['cpm'].max()\n",
        "\n",
        "    active_hours = filtered_history['hour_mod_24'].value_counts().nlargest(5)\n",
        "\n",
        "    most_active_hour = active_hours.index[0] if len(active_hours) > 0 else None\n",
        "    second_active_hour = active_hours.index[1] if len(active_hours) > 1 else None\n",
        "    third_active_hour = active_hours.index[2] if len(active_hours) > 2 else None\n",
        "    fourth_active_hour = active_hours.index[3] if len(active_hours) > 3 else None\n",
        "    fifth_active_hour = active_hours.index[4] if len(active_hours) > 4 else None\n",
        "\n",
        "    return pd.Series({\n",
        "        'average_cpm': average_cpm,\n",
        "        'min_cpm': min_cpm,\n",
        "        'max_cpm': max_cpm,\n",
        "        'most_active_hour': most_active_hour,\n",
        "        'second_active_hour': second_active_hour,\n",
        "        'third_active_hour': third_active_hour,\n",
        "        'fourth_active_hour': fourth_active_hour,\n",
        "        'fifth_active_hour': fifth_active_hour\n",
        "    })"
      ],
      "metadata": {
        "id": "SOwMsSMliRaj"
      },
      "execution_count": null,
      "outputs": []
    },
    {
      "cell_type": "code",
      "source": [
        "validate_train['publishers'] = validate_train['publishers'].apply(lambda x: eval(x))\n",
        "cpm_metrics = validate_train['publishers'].apply(create_publishers_parametrs)\n",
        "validate_train = pd.concat([validate_train, cpm_metrics], axis=1)"
      ],
      "metadata": {
        "id": "20eR8C9LiY1w"
      },
      "execution_count": null,
      "outputs": []
    },
    {
      "cell_type": "code",
      "source": [
        "validate_test['publishers'] = validate_test['publishers'].apply(lambda x: eval(x))\n",
        "cpm_metrics = validate_test['publishers'].apply(create_publishers_parametrs)\n",
        "validate_test = pd.concat([validate_test, cpm_metrics], axis=1)"
      ],
      "metadata": {
        "id": "4i3RwKAUiZai"
      },
      "execution_count": null,
      "outputs": []
    },
    {
      "cell_type": "code",
      "source": [
        "validate_train.to_csv('validate_train.csv', sep='\\t')\n",
        "validate_test.to_csv('validate_test.csv', sep='\\t')\n",
        "validate_answers_train.to_csv('validate_answers_train.csv', sep='\\t')\n",
        "validate_answers_test.to_csv('validate_answers_test.csv', sep='\\t')"
      ],
      "metadata": {
        "id": "THk5UU2Vijvs"
      },
      "execution_count": null,
      "outputs": []
    },
    {
      "cell_type": "code",
      "source": [
        "validate_train_url = \"https://getfile.dokpub.com/yandex/get/https://disk.yandex.ru/d/DZW9I4MwAJrl_A\"\n",
        "validate_test_url = \"https://getfile.dokpub.com/yandex/get/https://disk.yandex.ru/d/8nSFbNQY92HCng\"\n",
        "validate_answers_train_url = 'https://getfile.dokpub.com/yandex/get/https://disk.yandex.ru/d/UsSATGKzLrhBFQ'\n",
        "validate_answers_test = 'https://getfile.dokpub.com/yandex/get/https://disk.yandex.ru/d/iu8jIJk1C15mww'\n",
        "history_train_url = 'https://getfile.dokpub.com/yandex/get/https://disk.yandex.ru/d/BkZWvVVDjfB1rw'\n",
        "users_train_url = 'https://getfile.dokpub.com/yandex/get/https://disk.yandex.ru/d/SEz-05NG0vpkKA'\n",
        "validate_train = pd.read_csv(validate_train_url, sep='\\t')\n",
        "validate_test = pd.read_csv(validate_test_url, sep='\\t')\n",
        "validate_answers_train = pd.read_csv(validate_answers_train_url, sep='\\t')\n",
        "validate_answers_test = pd.read_csv(validate_answers_test, sep='\\t')\n",
        "history_train = pd.read_csv(history_train_url, sep='\\t')\n",
        "users_train = pd.read_csv(users_train_url, sep='\\t')\n"
      ],
      "metadata": {
        "id": "r4vDi2ISKWn0"
      },
      "execution_count": 14,
      "outputs": []
    }
  ]
}